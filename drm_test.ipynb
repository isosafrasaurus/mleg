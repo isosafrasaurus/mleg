{
 "cells": [
  {
   "cell_type": "code",
   "execution_count": 1,
   "id": "c2699dcd-d8aa-493b-9fe6-99744f5e8d75",
   "metadata": {},
   "outputs": [
    {
     "name": "stdout",
     "output_type": "stream",
     "text": [
      "Thu May  1 11:27:14 2025       \n",
      "+-----------------------------------------------------------------------------------------+\n",
      "| NVIDIA-SMI 570.124.06             Driver Version: 570.124.06     CUDA Version: 12.8     |\n",
      "|-----------------------------------------+------------------------+----------------------+\n",
      "| GPU  Name                 Persistence-M | Bus-Id          Disp.A | Volatile Uncorr. ECC |\n",
      "| Fan  Temp   Perf          Pwr:Usage/Cap |           Memory-Usage | GPU-Util  Compute M. |\n",
      "|                                         |                        |               MIG M. |\n",
      "|=========================================+========================+======================|\n",
      "|   0  NVIDIA GH200 480GB             On  |   00000000:DD:00.0 Off |                    0 |\n",
      "| N/A   37C    P0            128W /  700W |     754MiB /  97871MiB |      0%      Default |\n",
      "|                                         |                        |             Disabled |\n",
      "+-----------------------------------------+------------------------+----------------------+\n",
      "                                                                                         \n",
      "+-----------------------------------------------------------------------------------------+\n",
      "| Processes:                                                                              |\n",
      "|  GPU   GI   CI              PID   Type   Process name                        GPU Memory |\n",
      "|        ID   ID                                                               Usage      |\n",
      "|=========================================================================================|\n",
      "|    0   N/A  N/A           12898      C   ...rge3/envs/gcc13env/bin/python        746MiB |\n",
      "+-----------------------------------------------------------------------------------------+\n",
      "gcc (conda-forge gcc 13.2.0-13) 13.2.0\n",
      "Copyright (C) 2023 Free Software Foundation, Inc.\n",
      "This is free software; see the source for copying conditions.  There is NO\n",
      "warranty; not even for MERCHANTABILITY or FITNESS FOR A PARTICULAR PURPOSE.\n",
      "\n"
     ]
    }
   ],
   "source": [
    "!nvidia-smi\n",
    "!gcc --version"
   ]
  },
  {
   "cell_type": "code",
   "execution_count": 4,
   "id": "b56e6974-3d48-4957-8e62-73e4e4c34221",
   "metadata": {},
   "outputs": [
    {
     "name": "stdout",
     "output_type": "stream",
     "text": [
      "Looking in indexes: https://download.pytorch.org/whl/cu128\n",
      "Collecting torch\n",
      "  Using cached https://download.pytorch.org/whl/cu128/torch-2.7.0%2Bcu128-cp313-cp313-manylinux_2_28_aarch64.whl.metadata (29 kB)\n",
      "Collecting torchvision\n",
      "  Using cached https://download.pytorch.org/whl/cu128/torchvision-0.22.0-cp313-cp313-manylinux_2_28_aarch64.whl.metadata (6.1 kB)\n",
      "Collecting torchaudio\n",
      "  Using cached https://download.pytorch.org/whl/cu128/torchaudio-2.7.0-cp313-cp313-manylinux_2_28_aarch64.whl.metadata (6.4 kB)\n",
      "Collecting filelock (from torch)\n",
      "  Using cached https://download.pytorch.org/whl/filelock-3.13.1-py3-none-any.whl.metadata (2.8 kB)\n",
      "Requirement already satisfied: typing-extensions>=4.10.0 in /home/ubuntu/miniforge3/envs/gcc13env/lib/python3.13/site-packages (from torch) (4.13.2)\n",
      "Collecting setuptools (from torch)\n",
      "  Using cached https://download.pytorch.org/whl/setuptools-70.2.0-py3-none-any.whl.metadata (5.8 kB)\n",
      "Collecting sympy>=1.13.3 (from torch)\n",
      "  Using cached https://download.pytorch.org/whl/sympy-1.13.3-py3-none-any.whl.metadata (12 kB)\n",
      "Collecting networkx (from torch)\n",
      "  Using cached https://download.pytorch.org/whl/networkx-3.3-py3-none-any.whl.metadata (5.1 kB)\n",
      "Collecting jinja2 (from torch)\n",
      "  Using cached https://download.pytorch.org/whl/Jinja2-3.1.4-py3-none-any.whl.metadata (2.6 kB)\n",
      "Collecting fsspec (from torch)\n",
      "  Using cached https://download.pytorch.org/whl/fsspec-2024.6.1-py3-none-any.whl.metadata (11 kB)\n",
      "Collecting triton==3.3.0 (from torch)\n",
      "  Using cached https://download.pytorch.org/whl/triton-3.3.0-cp313-cp313-manylinux_2_27_aarch64.manylinux_2_28_aarch64.whl.metadata (1.5 kB)\n",
      "Collecting numpy (from torchvision)\n",
      "  Using cached https://download.pytorch.org/whl/numpy-2.1.2-cp313-cp313-manylinux_2_17_aarch64.manylinux2014_aarch64.whl.metadata (62 kB)\n",
      "Collecting pillow!=8.3.*,>=5.3.0 (from torchvision)\n",
      "  Using cached https://download.pytorch.org/whl/pillow-11.0.0-cp313-cp313-manylinux_2_28_aarch64.whl.metadata (9.1 kB)\n",
      "Collecting mpmath<1.4,>=1.1.0 (from sympy>=1.13.3->torch)\n",
      "  Using cached https://download.pytorch.org/whl/mpmath-1.3.0-py3-none-any.whl (536 kB)\n",
      "Collecting MarkupSafe>=2.0 (from jinja2->torch)\n",
      "  Using cached MarkupSafe-2.1.5-cp313-cp313-linux_aarch64.whl\n",
      "Using cached https://download.pytorch.org/whl/cu128/torch-2.7.0%2Bcu128-cp313-cp313-manylinux_2_28_aarch64.whl (2845.9 MB)\n",
      "Using cached https://download.pytorch.org/whl/triton-3.3.0-cp313-cp313-manylinux_2_27_aarch64.manylinux_2_28_aarch64.whl (145.2 MB)\n",
      "Using cached https://download.pytorch.org/whl/cu128/torchvision-0.22.0-cp313-cp313-manylinux_2_28_aarch64.whl (9.1 MB)\n",
      "Using cached https://download.pytorch.org/whl/cu128/torchaudio-2.7.0-cp313-cp313-manylinux_2_28_aarch64.whl (3.7 MB)\n",
      "Using cached https://download.pytorch.org/whl/pillow-11.0.0-cp313-cp313-manylinux_2_28_aarch64.whl (4.2 MB)\n",
      "Using cached https://download.pytorch.org/whl/setuptools-70.2.0-py3-none-any.whl (930 kB)\n",
      "Using cached https://download.pytorch.org/whl/sympy-1.13.3-py3-none-any.whl (6.2 MB)\n",
      "Using cached https://download.pytorch.org/whl/filelock-3.13.1-py3-none-any.whl (11 kB)\n",
      "Using cached https://download.pytorch.org/whl/fsspec-2024.6.1-py3-none-any.whl (177 kB)\n",
      "Using cached https://download.pytorch.org/whl/Jinja2-3.1.4-py3-none-any.whl (133 kB)\n",
      "Using cached https://download.pytorch.org/whl/networkx-3.3-py3-none-any.whl (1.7 MB)\n",
      "Using cached https://download.pytorch.org/whl/numpy-2.1.2-cp313-cp313-manylinux_2_17_aarch64.manylinux2014_aarch64.whl (13.6 MB)\n",
      "Installing collected packages: mpmath, sympy, setuptools, pillow, numpy, networkx, MarkupSafe, fsspec, filelock, triton, jinja2, torch, torchvision, torchaudio\n",
      "\u001b[2K   \u001b[90m━━━━━━━━━━━━━━━━━━━━━━━━━━━━━━━━━━━━━━━━\u001b[0m \u001b[32m14/14\u001b[0m [torchaudio]4\u001b[0m [torchaudio]]\n",
      "\u001b[1A\u001b[2KSuccessfully installed MarkupSafe-2.1.5 filelock-3.13.1 fsspec-2024.6.1 jinja2-3.1.4 mpmath-1.3.0 networkx-3.3 numpy-2.1.2 pillow-11.0.0 setuptools-70.2.0 sympy-1.13.3 torch-2.7.0+cu128 torchaudio-2.7.0 torchvision-0.22.0 triton-3.3.0\n"
     ]
    }
   ],
   "source": [
    "!pip install torch torchvision torchaudio --index-url https://download.pytorch.org/whl/cu128"
   ]
  },
  {
   "cell_type": "code",
   "execution_count": null,
   "id": "deec2719-9bf7-4da2-a8fc-9ef1b960b438",
   "metadata": {},
   "outputs": [],
   "source": [
    "!wget https://github.com/bitsandbytes-foundation/bitsandbytes/archive/refs/tags/0.45.5.tar.gz && tar -xf 0.45.5.tar.gz && cd bitsandbytes-0.45.5/ && pip install bitsandbytes-0.45.5/"
   ]
  },
  {
   "cell_type": "code",
   "execution_count": null,
   "id": "ef628cb1-f8fe-4233-b732-8f016a45f03d",
   "metadata": {},
   "outputs": [],
   "source": [
    "git clone https://github.com/bitsandbytes-foundation/bitsandbytes.git && cd bitsandbytes/\n",
    "cmake -DCOMPUTE_BACKEND=cuda -S .\n",
    "make\n",
    "pip install ."
   ]
  },
  {
   "cell_type": "code",
   "execution_count": 6,
   "id": "75c95ba4-4b59-4a5c-b5eb-dc3fe22a1a64",
   "metadata": {},
   "outputs": [
    {
     "name": "stdout",
     "output_type": "stream",
     "text": [
      "12.8\n"
     ]
    }
   ],
   "source": [
    "import torch\n",
    "print(torch.version.cuda)"
   ]
  },
  {
   "cell_type": "code",
   "execution_count": 7,
   "id": "786337a3-bb06-404a-bcbc-5c45dc87900e",
   "metadata": {},
   "outputs": [
    {
     "name": "stdout",
     "output_type": "stream",
     "text": [
      "Could not find the bitsandbytes CUDA binary at PosixPath('/home/ubuntu/miniforge3/envs/gcc13env/lib/python3.13/site-packages/bitsandbytes/libbitsandbytes_cuda128.so')\n",
      "Could not load bitsandbytes native library: /home/ubuntu/miniforge3/envs/gcc13env/lib/python3.13/site-packages/bitsandbytes/libbitsandbytes_cpu.so: cannot open shared object file: No such file or directory\n",
      "Traceback (most recent call last):\n",
      "  File \"/home/ubuntu/miniforge3/envs/gcc13env/lib/python3.13/site-packages/bitsandbytes/cextension.py\", line 85, in <module>\n",
      "    lib = get_native_library()\n",
      "  File \"/home/ubuntu/miniforge3/envs/gcc13env/lib/python3.13/site-packages/bitsandbytes/cextension.py\", line 72, in get_native_library\n",
      "    dll = ct.cdll.LoadLibrary(str(binary_path))\n",
      "  File \"/home/ubuntu/miniforge3/envs/gcc13env/lib/python3.13/ctypes/__init__.py\", line 471, in LoadLibrary\n",
      "    return self._dlltype(name)\n",
      "           ~~~~~~~~~~~~~^^^^^^\n",
      "  File \"/home/ubuntu/miniforge3/envs/gcc13env/lib/python3.13/ctypes/__init__.py\", line 390, in __init__\n",
      "    self._handle = _dlopen(self._name, mode)\n",
      "                   ~~~~~~~^^^^^^^^^^^^^^^^^^\n",
      "OSError: /home/ubuntu/miniforge3/envs/gcc13env/lib/python3.13/site-packages/bitsandbytes/libbitsandbytes_cpu.so: cannot open shared object file: No such file or directory\n",
      "\n",
      "CUDA Setup failed despite CUDA being available. Please run the following command to get more information:\n",
      "\n",
      "python -m bitsandbytes\n",
      "\n",
      "Inspect the output of the command and see if you can locate CUDA libraries. You might need to add them\n",
      "to your LD_LIBRARY_PATH. If you suspect a bug, please take the information from python -m bitsandbytes\n",
      "and open an issue at: https://github.com/bitsandbytes-foundation/bitsandbytes/issues\n",
      "\n",
      "++++++++++++++++++++++++++++++++++++++++++++++++++++++++++++\n",
      "++++++++++++++++++ BUG REPORT INFORMATION ++++++++++++++++++\n",
      "++++++++++++++++++++++++++++++++++++++++++++++++++++++++++++\n",
      "++++++++++++++++++++++++++ OTHER +++++++++++++++++++++++++++\n",
      "CUDA specs: CUDASpecs(highest_compute_capability=(9, 0), cuda_version_string='128', cuda_version_tuple=(12, 8))\n",
      "PyTorch settings found: CUDA_VERSION=128, Highest Compute Capability: (9, 0).\n",
      "Library not found: /home/ubuntu/miniforge3/envs/gcc13env/lib/python3.13/site-packages/bitsandbytes/libbitsandbytes_cuda128.so. Maybe you need to compile it from source?\n",
      "If you compiled from source, try again with `make CUDA_VERSION=DETECTED_CUDA_VERSION`,\n",
      "for example, `make CUDA_VERSION=113`.\n",
      "\n",
      "The CUDA version for the compile might depend on your conda install, if using conda.\n",
      "Inspect CUDA version via `conda list | grep cuda`.\n",
      "To manually override the PyTorch CUDA version please see: https://github.com/TimDettmers/bitsandbytes/blob/main/docs/source/nonpytorchcuda.mdx\n",
      "The directory listed in your path is found to be non-existent: /run/lambda-jupyter-lab.pid\n",
      "The directory listed in your path is found to be non-existent: //matplotlib_inline.backend_inline\n",
      "CUDA SETUP: WARNING! CUDA runtime files not found in any environmental path.\n",
      "++++++++++++++++++++++++++++++++++++++++++++++++++++++++++++\n",
      "++++++++++++++++++++++ DEBUG INFO END ++++++++++++++++++++++\n",
      "++++++++++++++++++++++++++++++++++++++++++++++++++++++++++++\n",
      "Checking that the library is importable and CUDA is callable...\n",
      "Couldn't load the bitsandbytes library, likely due to missing binaries.\n",
      "Please ensure bitsandbytes is properly installed.\n",
      "\n",
      "For source installations, compile the binaries with `cmake -DCOMPUTE_BACKEND=cuda -S .`.\n",
      "See the documentation for more details if needed.\n",
      "\n",
      "Trying a simple check anyway, but this will likely fail...\n",
      "Traceback (most recent call last):\n",
      "  File \"/home/ubuntu/miniforge3/envs/gcc13env/lib/python3.13/site-packages/bitsandbytes/diagnostics/main.py\", line 66, in main\n",
      "    sanity_check()\n",
      "    ~~~~~~~~~~~~^^\n",
      "  File \"/home/ubuntu/miniforge3/envs/gcc13env/lib/python3.13/site-packages/bitsandbytes/diagnostics/main.py\", line 40, in sanity_check\n",
      "    adam.step()\n",
      "    ~~~~~~~~~^^\n",
      "  File \"/home/ubuntu/miniforge3/envs/gcc13env/lib/python3.13/site-packages/torch/optim/optimizer.py\", line 485, in wrapper\n",
      "    out = func(*args, **kwargs)\n",
      "  File \"/home/ubuntu/miniforge3/envs/gcc13env/lib/python3.13/site-packages/torch/utils/_contextlib.py\", line 116, in decorate_context\n",
      "    return func(*args, **kwargs)\n",
      "  File \"/home/ubuntu/miniforge3/envs/gcc13env/lib/python3.13/site-packages/bitsandbytes/optim/optimizer.py\", line 291, in step\n",
      "    self.update_step(group, p, gindex, pindex)\n",
      "    ~~~~~~~~~~~~~~~~^^^^^^^^^^^^^^^^^^^^^^^^^^\n",
      "  File \"/home/ubuntu/miniforge3/envs/gcc13env/lib/python3.13/site-packages/torch/utils/_contextlib.py\", line 116, in decorate_context\n",
      "    return func(*args, **kwargs)\n",
      "  File \"/home/ubuntu/miniforge3/envs/gcc13env/lib/python3.13/site-packages/bitsandbytes/optim/optimizer.py\", line 521, in update_step\n",
      "    F.optimizer_update_32bit(\n",
      "    ~~~~~~~~~~~~~~~~~~~~~~~~^\n",
      "        self.optimizer_name,\n",
      "        ^^^^^^^^^^^^^^^^^^^^\n",
      "    ...<15 lines>...\n",
      "        skip_zeros=config[\"skip_zeros\"],\n",
      "        ^^^^^^^^^^^^^^^^^^^^^^^^^^^^^^^^\n",
      "    )\n",
      "    ^\n",
      "  File \"/home/ubuntu/miniforge3/envs/gcc13env/lib/python3.13/site-packages/bitsandbytes/functional.py\", line 1572, in optimizer_update_32bit\n",
      "    optim_func = str2optimizer32bit[optimizer_name][0]\n",
      "                 ^^^^^^^^^^^^^^^^^^\n",
      "NameError: name 'str2optimizer32bit' is not defined\n",
      "Above we output some debug information.\n",
      "Please provide this info when creating an issue via https://github.com/TimDettmers/bitsandbytes/issues/new/choose\n",
      "WARNING: Please be sure to sanitize sensitive info from the output before posting it.\n"
     ]
    }
   ],
   "source": [
    "!python -m bitsandbytes"
   ]
  },
  {
   "cell_type": "code",
   "execution_count": null,
   "id": "36adca6f-b0c0-4336-b825-f18ccbb43921",
   "metadata": {},
   "outputs": [],
   "source": []
  }
 ],
 "metadata": {
  "kernelspec": {
   "display_name": "gcc13env",
   "language": "python",
   "name": "gcc13env"
  },
  "language_info": {
   "codemirror_mode": {
    "name": "ipython",
    "version": 3
   },
   "file_extension": ".py",
   "mimetype": "text/x-python",
   "name": "python",
   "nbconvert_exporter": "python",
   "pygments_lexer": "ipython3",
   "version": "3.13.3"
  }
 },
 "nbformat": 4,
 "nbformat_minor": 5
}
